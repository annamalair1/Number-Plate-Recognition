{
 "cells": [
  {
   "cell_type": "code",
   "execution_count": 1,
   "metadata": {},
   "outputs": [],
   "source": [
    "import os\n",
    "os.chdir(\"E:\\College\\Final year project\\images\")\n",
    "import pytesseract"
   ]
  },
  {
   "cell_type": "code",
   "execution_count": 2,
   "metadata": {},
   "outputs": [],
   "source": [
    "pytesseract.pytesseract.tesseract_cmd = r'C:\\Users\\USER\\AppData\\Local\\Tesseract-OCR\\tesseract.exe'\n",
    "l=[\"15-LK-10898\" , \"TN 52 M6912\" , \"MH12DE1433\" , \"TN-55 AR 2666\" , \"TN55 AR 2666\"]"
   ]
  },
  {
   "cell_type": "code",
   "execution_count": 2,
   "metadata": {},
   "outputs": [],
   "source": [
    "from pymongo import MongoClient\n",
    "# pprint library is used to make the output look more pretty\n",
    "from pprint import pprint\n",
    "# connect to MongoDB, change the << MONGODB URL >> to reflect your own connection string \n",
    "client = MongoClient(<<MONGODB URL>>)"
   ]
  },
  {
   "cell_type": "code",
   "execution_count": 3,
   "metadata": {},
   "outputs": [
    {
     "name": "stdout",
     "output_type": "stream",
     "text": [
      "TN 52 M6912\n"
     ]
    }
   ],
   "source": [
    "def main():\n",
    "    import numpy as np\n",
    "    import cv2\n",
    "    import imutils\n",
    "    import sys\n",
    "    import pytesseract\n",
    "    import pandas as pd\n",
    "    import time\n",
    "    pytesseract.pytesseract.tesseract_cmd = r'C:\\Users\\USER\\AppData\\Local\\Tesseract-OCR\\tesseract.exe'\n",
    "    img = cv2.imread(\"1.jpg\")\n",
    "    img = imutils.resize(img, width=500)\n",
    "    cv2.imshow(\"Original Image\", img)  \n",
    "    cv2.waitKey(0)\n",
    "    gray_img = cv2.cvtColor(img, cv2.COLOR_BGR2GRAY)\n",
    "    cv2.imshow(\"Preprocess 1 - Grayscale Conversion\", gray_img) \n",
    "    cv2.waitKey(0)\n",
    "    gray_img = cv2.bilateralFilter(gray_img, 11, 17, 17)\n",
    "    cv2.imshow(\"Preprocess 2 - Bilateral Filter\", gray_img)   \n",
    "    cv2.waitKey(0)\n",
    "    c_edge = cv2.Canny(gray_img, 170, 200)\n",
    "    cv2.imshow(\"Preprocess 3 - Canny Edges\", c_edge)    \n",
    "    cv2.waitKey(0)\n",
    "    cnt, new = cv2.findContours(c_edge, cv2.RETR_LIST, cv2.CHAIN_APPROX_SIMPLE)\n",
    "    cnt = sorted(cnt, key = cv2.contourArea, reverse = True)[:30]\n",
    "    NumberPlateCount = None\n",
    "    im2 = img.copy()\n",
    "    cv2.drawContours(im2, cnt, -1, (0,255,0), 3)\n",
    "    cv2.imshow(\"Top 30 Contours\", im2)      \n",
    "    cv2.waitKey(0)\n",
    "    count = 0\n",
    "    for c in cnt:\n",
    "        perimeter = cv2.arcLength(c, True)    \n",
    "        approx = cv2.approxPolyDP(c, 0.02 * perimeter, True)\n",
    "        if len(approx) == 4:         \n",
    "            NumberPlateCount = approx\n",
    "            break\n",
    "    masked = np.zeros(gray_img.shape,np.uint8)\n",
    "    new_image = cv2.drawContours(masked,[NumberPlateCount],0,255,-1)\n",
    "    new_image = cv2.bitwise_and(img,img,mask=masked)\n",
    "    cv2.imshow(\"4 - Final_Image\",new_image)  \n",
    "    cv2.waitKey(0)\n",
    "    configr = ('-l eng --oem 1 --psm 3')\n",
    "    text_no = pytesseract.image_to_string(new_image, config=configr)\n",
    "    data = {'Date': [time.asctime(time.localtime(time.time()))],\n",
    "        'Vehicle_number': [text_no]}\n",
    "    df = pd.DataFrame(data, columns = ['Date', 'Vehicle_number'])\n",
    "    df.to_csv('Dataset_VehicleNo.csv')\n",
    "    cv2.waitKey(0)\n",
    "    flag=0\n",
    "    import seaborn as sn \n",
    "    data=pd.read_csv(r\"C:\\Users\\user\\Documents\\MATLAB\\testdata.csv\")\n",
    "    reg=data['Registration Number']\n",
    "    abc=text_no\n",
    "    for idx,i in enumerate(reg):\n",
    "        if(i==abc):\n",
    "            #print(data.loc[idx,:])\n",
    "            flag=1\n",
    "    if(flag==0):\n",
    "        print(\"Not registered\")\n",
    "    print(text_no)    \n",
    "if __name__ == '__main__':\n",
    "    main()"
   ]
  },
  {
   "cell_type": "code",
   "execution_count": null,
   "metadata": {},
   "outputs": [],
   "source": [
    "import numpy as np\n",
    "import cv2\n",
    "import matplotlib.pyplot as plt\n",
    "\n",
    "import cv2\n",
    "cap = cv2.VideoCapture(0)\n",
    "add=\"https:192.168.43.15:8080/video\"\n",
    "cap.open(add)\n",
    "while(True):\n",
    "    ret,frame = cap.read()\n",
    "    gray = cv2.cvtColor(frame,cv2.COLOR_BGR2GRAY)\n",
    "    cv2.imshow('frame123',gray)\n",
    "    thresh = cv2.adaptiveThreshold(gray,255,cv2.ADAPTIVE_THRESH_GAUSSIAN_C, cv2.THRESH_BINARY,11,2)\n",
    "    contours,h = cv2.findContours(thresh,1,2)\n",
    "    largest_rectangle = [0,0]\n",
    "    for cnt in contours:\n",
    "        approx = cv2.approxPolyDP(cnt,0.01*cv2.arcLength(cnt,True),True)\n",
    "        if len(approx)==4: \n",
    "            area = cv2.contourArea(cnt)\n",
    "            if area > largest_rectangle[0]:\n",
    "                largest_rectangle = [cv2.contourArea(cnt), cnt, approx]\n",
    "\n",
    "    x,y,w,h = cv2.boundingRect(largest_rectangle[1])\n",
    "    roi=frame[y:y+h,x:x+w]\n",
    "    cv2.drawContours(frame,[largest_rectangle[1]],0,(0,0,255),-1)\n",
    "    plt.imshow(roi, cmap = 'gray')\n",
    "    thresh = cv2.adaptiveThreshold(gray,255,cv2.ADAPTIVE_THRESH_GAUSSIAN_C, cv2.THRESH_BINARY,11,2)\n",
    "    text = pytesseract.image_to_string(roi)\n",
    "    if(text):\n",
    "        print(text)\n",
    "    if cv2.waitKey(1) & 0xFF == ord('f'):\n",
    "        text = pytesseract.image_to_string(roi)\n",
    "        break\n",
    "cap.release()\n",
    "cv2.destroyAllWindows()        \n",
    "\n"
   ]
  },
  {
   "cell_type": "code",
   "execution_count": 7,
   "metadata": {},
   "outputs": [
    {
     "name": "stdout",
     "output_type": "stream",
     "text": [
      "IRIIJAR4SIIO |\n",
      "Pw VwANaw VY\n",
      "TRIIARGIJO:\n",
      "ren\n",
      "iii...\n",
      "IROIIJARGIIO\n",
      "|RODAR4I06\n",
      "INJJARSIIO|\n",
      "INJIAAGIIO:\n",
      "| TNSSAK4556\n",
      "eS\n",
      "ee _ fa\n",
      "ee /\n",
      "———\n",
      "ae /\n",
      "ae _\n",
      "ee\n",
      "ee\n",
      "ee —_ ft\n",
      "ae /\n",
      "I\n"
     ]
    },
    {
     "data": {
      "image/png": "[encoded data removed]",
      "text/plain": [
       "<Figure size 432x288 with 1 Axes>"
      ]
     },
     "metadata": {
      "needs_background": "light"
     },
     "output_type": "display_data"
    }
   ],
   "source": [
    "import numpy as np\n",
    "import cv2\n",
    "import matplotlib.pyplot as plt\n",
    "\n",
    "import cv2\n",
    "cap = cv2.VideoCapture(0)\n",
    "add=\"https:192.168.168.15:8080/video\"\n",
    "cap.open(add)\n",
    "while(True):\n",
    "    ret,frame = cap.read()\n",
    "    gray = cv2.cvtColor(frame,cv2.COLOR_BGR2GRAY)\n",
    "    cv2.imshow('frame123',gray)\n",
    "    c_edge = cv2.Canny(gray, 170, 200)\n",
    "    contours,h = cv2.findContours(c_edge,1,2)\n",
    "    largest_rectangle = [0,0]\n",
    "    for cnt in contours:\n",
    "        approx = cv2.approxPolyDP(cnt,0.01*cv2.arcLength(cnt,True),True)\n",
    "        if len(approx)==4: \n",
    "            area = cv2.contourArea(cnt)\n",
    "            if area > largest_rectangle[0]:\n",
    "                largest_rectangle = [cv2.contourArea(cnt), cnt, approx]\n",
    "    \n",
    "    x,y,w,h = cv2.boundingRect(largest_rectangle[1])\n",
    "    roi=frame[y:y+h,x:x+w]\n",
    "    cv2.drawContours(frame,[largest_rectangle[1]],0,(0,0,255),-1)\n",
    "    plt.imshow(roi, cmap = 'gray')\n",
    "    thresh = cv2.adaptiveThreshold(gray,255,cv2.ADAPTIVE_THRESH_GAUSSIAN_C, cv2.THRESH_BINARY,11,2)\n",
    "    text = pytesseract.image_to_string(roi)\n",
    "    \n",
    "    if(text):\n",
    "        print(text)\n",
    "    if cv2.waitKey(1) & 0xFF == ord('f'):\n",
    "        text = pytesseract.image_to_string(roi)\n",
    "        break\n",
    "cap.release()\n",
    "cv2.destroyAllWindows()        \n",
    "\n"
   ]
  },
  {
   "cell_type": "code",
   "execution_count": null,
   "metadata": {},
   "outputs": [],
   "source": []
  },
  {
   "cell_type": "code",
   "execution_count": null,
   "metadata": {},
   "outputs": [],
   "source": []
  }
 ],
 "metadata": {
  "kernelspec": {
   "display_name": "Python 3",
   "language": "python",
   "name": "python3"
  },
  "language_info": {
   "codemirror_mode": {
    "name": "ipython",
    "version": 3
   },
   "file_extension": ".py",
   "mimetype": "text/x-python",
   "name": "python",
   "nbconvert_exporter": "python",
   "pygments_lexer": "ipython3",
   "version": "3.7.3"
  }
 },
 "nbformat": 4,
 "nbformat_minor": 2
}
